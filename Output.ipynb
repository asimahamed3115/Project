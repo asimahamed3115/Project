{
  "nbformat": 4,
  "nbformat_minor": 0,
  "metadata": {
    "colab": {
      "provenance": []
    },
    "kernelspec": {
      "name": "python3",
      "display_name": "Python 3"
    },
    "language_info": {
      "name": "python"
    }
  },
  "cells": [
    {
      "cell_type": "code",
      "execution_count": 11,
      "metadata": {
        "id": "uDEDTbx8lxYH"
      },
      "outputs": [],
      "source": [
        "!pip install transformers gradio --quiet\n"
      ]
    },
    {
      "cell_type": "code",
      "source": [
        "import pandas as pd\n",
        "from transformers import pipeline\n",
        "import gradio as gr"
      ],
      "metadata": {
        "id": "z5FfwqR7l5ED"
      },
      "execution_count": 12,
      "outputs": []
    },
    {
      "cell_type": "code",
      "source": [
        "df = pd.read_csv(\"sample.csv\")\n"
      ],
      "metadata": {
        "id": "r2OnIKjAmGz-"
      },
      "execution_count": 13,
      "outputs": []
    },
    {
      "cell_type": "code",
      "source": [
        "sentiment_model = pipeline(\"sentiment-analysis\")\n"
      ],
      "metadata": {
        "colab": {
          "base_uri": "https://localhost:8080/"
        },
        "id": "p8e0xPptmXt8",
        "outputId": "abfbf94e-56e4-4d4b-9f62-94e06f5d866f"
      },
      "execution_count": 14,
      "outputs": [
        {
          "output_type": "stream",
          "name": "stderr",
          "text": [
            "No model was supplied, defaulted to distilbert/distilbert-base-uncased-finetuned-sst-2-english and revision 714eb0f (https://huggingface.co/distilbert/distilbert-base-uncased-finetuned-sst-2-english).\n",
            "Using a pipeline without specifying a model name and revision in production is not recommended.\n",
            "Device set to use cpu\n"
          ]
        }
      ]
    },
    {
      "cell_type": "code",
      "source": [
        "df['sentiment'] = df['text'].apply(lambda x: sentiment_model(x)[0]['label'])"
      ],
      "metadata": {
        "id": "hbk9QYIqma3_"
      },
      "execution_count": 15,
      "outputs": []
    },
    {
      "cell_type": "code",
      "source": [
        "print(df[['text', 'sentiment']].head())\n"
      ],
      "metadata": {
        "colab": {
          "base_uri": "https://localhost:8080/"
        },
        "id": "efk6GLvum6qd",
        "outputId": "31c716f2-22e2-4e2c-bc9c-cf8b5c2ba93e"
      },
      "execution_count": 16,
      "outputs": [
        {
          "output_type": "stream",
          "name": "stdout",
          "text": [
            "                                                text sentiment\n",
            "0  @AppleSupport causing the reply to be disregar...  NEGATIVE\n",
            "1  @105835 Your business means a lot to us. Pleas...  POSITIVE\n",
            "2  @76328 I really hope you all change but I'm su...  POSITIVE\n",
            "3  @105836 LiveChat is online at the moment - htt...  NEGATIVE\n",
            "4  @VirginTrains see attached error message. I've...  NEGATIVE\n"
          ]
        }
      ]
    },
    {
      "cell_type": "code",
      "source": [
        "def analyze_sentiment(tweet):\n",
        "    result = sentiment_model(tweet)[0]\n",
        "    return f\"{result['label']} (score: {round(result['score'], 2)})\"\n"
      ],
      "metadata": {
        "id": "UPTzUxjxnqrJ"
      },
      "execution_count": 17,
      "outputs": []
    },
    {
      "cell_type": "code",
      "source": [
        "gr.Interface(\n",
        "    fn=analyze_sentiment,\n",
        "    inputs=gr.Textbox(lines=3, placeholder=\"Enter a tweet...\"),\n",
        "    outputs=\"text\",\n",
        "    title=\"📊 Tweet Sentiment Analyzer\",\n",
        "    description=\"Enter a tweet to predict whether it's positive, negative, or neutral sentiment.\"\n",
        ").launch()\n"
      ],
      "metadata": {
        "colab": {
          "base_uri": "https://localhost:8080/",
          "height": 646
        },
        "id": "WTN6pdt9n0vp",
        "outputId": "9ab17fd0-2ddc-498d-8a53-d386e076e89f"
      },
      "execution_count": 18,
      "outputs": [
        {
          "output_type": "stream",
          "name": "stdout",
          "text": [
            "It looks like you are running Gradio on a hosted a Jupyter notebook. For the Gradio app to work, sharing must be enabled. Automatically setting `share=True` (you can turn this off by setting `share=False` in `launch()` explicitly).\n",
            "\n",
            "Colab notebook detected. To show errors in colab notebook, set debug=True in launch()\n",
            "* Running on public URL: https://7f330275b522d192bc.gradio.live\n",
            "\n",
            "This share link expires in 1 week. For free permanent hosting and GPU upgrades, run `gradio deploy` from the terminal in the working directory to deploy to Hugging Face Spaces (https://huggingface.co/spaces)\n"
          ]
        },
        {
          "output_type": "display_data",
          "data": {
            "text/plain": [
              "<IPython.core.display.HTML object>"
            ],
            "text/html": [
              "<div><iframe src=\"https://7f330275b522d192bc.gradio.live\" width=\"100%\" height=\"500\" allow=\"autoplay; camera; microphone; clipboard-read; clipboard-write;\" frameborder=\"0\" allowfullscreen></iframe></div>"
            ]
          },
          "metadata": {}
        },
        {
          "output_type": "execute_result",
          "data": {
            "text/plain": []
          },
          "metadata": {},
          "execution_count": 18
        }
      ]
    },
    {
      "cell_type": "code",
      "source": [],
      "metadata": {
        "id": "CI6m3MyEn7mU"
      },
      "execution_count": 18,
      "outputs": []
    }
  ]
}